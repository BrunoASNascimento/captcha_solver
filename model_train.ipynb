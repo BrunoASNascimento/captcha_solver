{
 "metadata": {
  "language_info": {
   "codemirror_mode": {
    "name": "ipython",
    "version": 3
   },
   "file_extension": ".py",
   "mimetype": "text/x-python",
   "name": "python",
   "nbconvert_exporter": "python",
   "pygments_lexer": "ipython3",
   "version": "3.9.5"
  },
  "orig_nbformat": 2,
  "kernelspec": {
   "name": "python395jvsc74a57bd05e999f57cba122e101e9e527c313cf943ae0f9fc5e3a1117e7732ad0c874c664",
   "display_name": "Python 3.9.5 64-bit ('tf-gpu': conda)"
  },
  "metadata": {
   "interpreter": {
    "hash": "5e999f57cba122e101e9e527c313cf943ae0f9fc5e3a1117e7732ad0c874c664"
   }
  }
 },
 "nbformat": 4,
 "nbformat_minor": 2,
 "cells": [
  {
   "cell_type": "code",
   "execution_count": 1,
   "metadata": {},
   "outputs": [],
   "source": [
    "import os\n",
    "import cv2\n",
    "import numpy as np \n",
    "import pandas as pd\n",
    "import matplotlib.pyplot as plt"
   ]
  },
  {
   "cell_type": "code",
   "execution_count": 2,
   "metadata": {},
   "outputs": [],
   "source": [
    "from pathlib import Path\n",
    "from collections import Counter\n",
    "from sklearn.model_selection import train_test_split"
   ]
  },
  {
   "cell_type": "code",
   "execution_count": 3,
   "metadata": {},
   "outputs": [
    {
     "output_type": "stream",
     "name": "stdout",
     "text": [
      "Tensorflow version:  2.4.1\n"
     ]
    }
   ],
   "source": [
    "import tensorflow as tf\n",
    "from tensorflow import keras\n",
    "from tensorflow.keras import layers\n",
    "print(\"Tensorflow version: \", tf.__version__)"
   ]
  },
  {
   "cell_type": "code",
   "execution_count": 4,
   "metadata": {},
   "outputs": [
    {
     "output_type": "execute_result",
     "data": {
      "text/plain": [
       "True"
      ]
     },
     "metadata": {},
     "execution_count": 4
    }
   ],
   "source": [
    "tf.test.is_built_with_cuda()"
   ]
  },
  {
   "cell_type": "code",
   "execution_count": 5,
   "metadata": {},
   "outputs": [
    {
     "output_type": "stream",
     "name": "stdout",
     "text": [
      "1 Physical GPUs, 1 Logical GPU\n"
     ]
    }
   ],
   "source": [
    "gpus = tf.config.list_physical_devices('GPU')\n",
    "if gpus:\n",
    "  # Restrict TensorFlow to only use the first GPU\n",
    "  try:\n",
    "    physical_devices = tf.config.list_physical_devices('GPU')\n",
    "    tf.config.experimental.set_visible_devices(gpus[0], 'GPU')\n",
    "    tf.config.experimental.set_memory_growth(physical_devices[0], True)\n",
    "    logical_gpus = tf.config.experimental.list_logical_devices('GPU')\n",
    "    print(len(gpus), \"Physical GPUs,\", len(logical_gpus), \"Logical GPU\")\n",
    "  except RuntimeError as e:\n",
    "    # Visible devices must be set before GPUs have been initialized\n",
    "    print(e)"
   ]
  },
  {
   "cell_type": "code",
   "execution_count": 6,
   "metadata": {},
   "outputs": [],
   "source": [
    "# tf.config.list_physical_devices('GPU')\n",
    "# tf.test.is_gpu_available(cuda_only=False, min_cuda_compute_capability=None)\n",
    "\n",
    "physical_devices = tf.config.list_physical_devices('GPU') \n",
    "tf.config.experimental.set_memory_growth(physical_devices[0], True)"
   ]
  },
  {
   "cell_type": "code",
   "execution_count": 7,
   "metadata": {},
   "outputs": [
    {
     "output_type": "execute_result",
     "data": {
      "text/plain": [
       "[name: \"/device:CPU:0\"\n",
       " device_type: \"CPU\"\n",
       " memory_limit: 268435456\n",
       " locality {\n",
       " }\n",
       " incarnation: 9400086177370381113,\n",
       " name: \"/device:GPU:0\"\n",
       " device_type: \"GPU\"\n",
       " memory_limit: 2980708352\n",
       " locality {\n",
       "   bus_id: 1\n",
       "   links {\n",
       "   }\n",
       " }\n",
       " incarnation: 10939671109409744834\n",
       " physical_device_desc: \"device: 0, name: GeForce GTX 1650, pci bus id: 0000:01:00.0, compute capability: 7.5\"]"
      ]
     },
     "metadata": {},
     "execution_count": 7
    }
   ],
   "source": [
    "from tensorflow.python.client import device_lib\n",
    "device_lib.list_local_devices()"
   ]
  },
  {
   "cell_type": "code",
   "execution_count": 8,
   "metadata": {},
   "outputs": [],
   "source": [
    "seed = 1234\n",
    "np.random.seed(seed)\n",
    "tf.random.set_seed(seed)"
   ]
  },
  {
   "cell_type": "code",
   "execution_count": 9,
   "metadata": {},
   "outputs": [
    {
     "output_type": "stream",
     "name": "stdout",
     "text": [
      "Number of images found:  1040\nShape of image:  (50, 200, 3)\nShape of image:  (50, 200, 3)\nShape of image:  (50, 200, 3)\nShape of image:  (50, 200, 3)\n"
     ]
    },
    {
     "output_type": "display_data",
     "data": {
      "text/plain": "<Figure size 360x216 with 4 Axes>",
      "image/svg+xml": "<?xml version=\"1.0\" encoding=\"utf-8\" standalone=\"no\"?>\n<!DOCTYPE svg PUBLIC \"-//W3C//DTD SVG 1.1//EN\"\n  \"http://www.w3.org/Graphics/SVG/1.1/DTD/svg11.dtd\">\n<!-- Created with matplotlib (https://matplotlib.org/) -->\n<svg height=\"135.057273pt\" version=\"1.1\" viewBox=\"0 0 293.4 135.057273\" width=\"293.4pt\" xmlns=\"http://www.w3.org/2000/svg\" xmlns:xlink=\"http://www.w3.org/1999/xlink\">\n <metadata>\n  <rdf:RDF xmlns:cc=\"http://creativecommons.org/ns#\" xmlns:dc=\"http://purl.org/dc/elements/1.1/\" xmlns:rdf=\"http://www.w3.org/1999/02/22-rdf-syntax-ns#\">\n   <cc:Work>\n    <dc:type rdf:resource=\"http://purl.org/dc/dcmitype/StillImage\"/>\n    <dc:date>2021-05-21T20:29:23.742385</dc:date>\n    <dc:format>image/svg+xml</dc:format>\n    <dc:creator>\n     <cc:Agent>\n      <dc:title>Matplotlib v3.3.4, https://matplotlib.org/</dc:title>\n     </cc:Agent>\n    </dc:creator>\n   </cc:Work>\n  </rdf:RDF>\n </metadata>\n <defs>\n  <style type=\"text/css\">*{stroke-linecap:butt;stroke-linejoin:round;}</style>\n </defs>\n <g id=\"figure_1\">\n  <g id=\"patch_1\">\n   <path d=\"M 0 135.057273 \nL 293.4 135.057273 \nL 293.4 0 \nL 0 0 \nz\n\" style=\"fill:none;\"/>\n  </g>\n  <g id=\"axes_1\">\n   <g clip-path=\"url(#p2898cea8e9)\">\n    <image height=\"32\" id=\"image0ebeb2066a\" transform=\"scale(1 -1)translate(0 -32)\" width=\"127\" x=\"7.2\" xlink:href=\"data:image/png;base64,\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\" y=\"-6.904545\"/>\n   </g>\n  </g>\n  <g id=\"axes_2\">\n   <g clip-path=\"url(#pc94d4cbbec)\">\n    <image height=\"32\" id=\"image2fe956cf82\" transform=\"scale(1 -1)translate(0 -32)\" width=\"127\" x=\"159.381818\" xlink:href=\"data:image/png;base64,\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\" y=\"-6.904545\"/>\n   </g>\n  </g>\n  <g id=\"axes_3\">\n   <g clip-path=\"url(#pfd56168074)\">\n    <image height=\"32\" id=\"image3b337e8d83\" transform=\"scale(1 -1)translate(0 -32)\" width=\"127\" x=\"7.2\" xlink:href=\"data:image/png;base64,\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\" y=\"-95.857273\"/>\n   </g>\n  </g>\n  <g id=\"axes_4\">\n   <g clip-path=\"url(#pf006c37a05)\">\n    <image height=\"32\" id=\"imagedd5c23bb7b\" transform=\"scale(1 -1)translate(0 -32)\" width=\"127\" x=\"159.381818\" xlink:href=\"data:image/png;base64,\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\" y=\"-95.857273\"/>\n   </g>\n  </g>\n </g>\n <defs>\n  <clipPath id=\"p2898cea8e9\">\n   <rect height=\"31.704545\" width=\"126.818182\" x=\"7.2\" y=\"7.2\"/>\n  </clipPath>\n  <clipPath id=\"pc94d4cbbec\">\n   <rect height=\"31.704545\" width=\"126.818182\" x=\"159.381818\" y=\"7.2\"/>\n  </clipPath>\n  <clipPath id=\"pfd56168074\">\n   <rect height=\"31.704545\" width=\"126.818182\" x=\"7.2\" y=\"96.152727\"/>\n  </clipPath>\n  <clipPath id=\"pf006c37a05\">\n   <rect height=\"31.704545\" width=\"126.818182\" x=\"159.381818\" y=\"96.152727\"/>\n  </clipPath>\n </defs>\n</svg>\n",
      "image/png": "[encoded data removed]"
     },
     "metadata": {
      "needs_background": "light"
     }
    }
   ],
   "source": [
    "# Path to the data directory\n",
    "data_dir = Path(\"/media/bruno-nascimento/SSD/developer/data/captcha\")\n",
    "\n",
    "# Get list of all the images\n",
    "images = list(data_dir.glob(\"*.png\"))\n",
    "print(\"Number of images found: \", len(images))\n",
    "\n",
    "# Let's take a look at some samples first. \n",
    "# Always look at your data!\n",
    "sample_images = images[:4]\n",
    "\n",
    "_,ax = plt.subplots(2,2, figsize=(5,3))\n",
    "for i in range(4):\n",
    "    img = cv2.imread(str(sample_images[i]))\n",
    "    print(\"Shape of image: \", img.shape)\n",
    "    ax[i//2, i%2].imshow(img)\n",
    "    ax[i//2, i%2].axis('off')\n",
    "plt.show()"
   ]
  },
  {
   "cell_type": "code",
   "execution_count": 10,
   "metadata": {},
   "outputs": [
    {
     "output_type": "stream",
     "name": "stdout",
     "text": [
      "Number of unqiue charcaters in the whole dataset:  19\nMaximum length of any captcha:  5\nCharacters present:  ['2', '3', '4', '5', '6', '7', '8', 'b', 'c', 'd', 'e', 'f', 'g', 'm', 'n', 'p', 'w', 'x', 'y']\nTotal number of samples in the dataset:  1040\n"
     ]
    },
    {
     "output_type": "execute_result",
     "data": {
      "text/plain": [
       "                                            img_path  label\n",
       "0  /media/bruno-nascimento/SSD/developer/data/cap...  5g5e5\n",
       "1  /media/bruno-nascimento/SSD/developer/data/cap...  wc2bd\n",
       "2  /media/bruno-nascimento/SSD/developer/data/cap...  3ym7f\n",
       "3  /media/bruno-nascimento/SSD/developer/data/cap...  bgb48\n",
       "4  /media/bruno-nascimento/SSD/developer/data/cap...  be6np"
      ],
      "text/html": "<div>\n<style scoped>\n    .dataframe tbody tr th:only-of-type {\n        vertical-align: middle;\n    }\n\n    .dataframe tbody tr th {\n        vertical-align: top;\n    }\n\n    .dataframe thead th {\n        text-align: right;\n    }\n</style>\n<table border=\"1\" class=\"dataframe\">\n  <thead>\n    <tr style=\"text-align: right;\">\n      <th></th>\n      <th>img_path</th>\n      <th>label</th>\n    </tr>\n  </thead>\n  <tbody>\n    <tr>\n      <th>0</th>\n      <td>/media/bruno-nascimento/SSD/developer/data/cap...</td>\n      <td>5g5e5</td>\n    </tr>\n    <tr>\n      <th>1</th>\n      <td>/media/bruno-nascimento/SSD/developer/data/cap...</td>\n      <td>wc2bd</td>\n    </tr>\n    <tr>\n      <th>2</th>\n      <td>/media/bruno-nascimento/SSD/developer/data/cap...</td>\n      <td>3ym7f</td>\n    </tr>\n    <tr>\n      <th>3</th>\n      <td>/media/bruno-nascimento/SSD/developer/data/cap...</td>\n      <td>bgb48</td>\n    </tr>\n    <tr>\n      <th>4</th>\n      <td>/media/bruno-nascimento/SSD/developer/data/cap...</td>\n      <td>be6np</td>\n    </tr>\n  </tbody>\n</table>\n</div>"
     },
     "metadata": {},
     "execution_count": 10
    }
   ],
   "source": [
    "# Store all the characters in a set\n",
    "characters = set()\n",
    "\n",
    "# A list to store the length of each captcha\n",
    "captcha_length = []\n",
    "\n",
    "# Store image-label info\n",
    "dataset = []\n",
    "\n",
    "# Iterate over the dataset and store the\n",
    "# information needed\n",
    "for img_path in images:\n",
    "    # 1. Get the label associated with each image\n",
    "    label = img_path.name.split(\".png\")[0]\n",
    "    # 2. Store the length of this cpatcha\n",
    "    captcha_length.append(len(label))\n",
    "    # 3. Store the image-label pair info\n",
    "    dataset.append((str(img_path), label))\n",
    "    \n",
    "    # 4. Store the characters present\n",
    "    for ch in label:\n",
    "        characters.add(ch)\n",
    "\n",
    "# Sort the characters        \n",
    "characters = sorted(characters)\n",
    "\n",
    "# Convert the dataset info into a dataframe\n",
    "dataset = pd.DataFrame(dataset, columns=[\"img_path\", \"label\"], index=None)\n",
    "\n",
    "# Shuffle the dataset\n",
    "dataset = dataset.sample(frac=1.).reset_index(drop=True)\n",
    "\n",
    "\n",
    "print(\"Number of unqiue charcaters in the whole dataset: \", len(characters))\n",
    "print(\"Maximum length of any captcha: \", max(Counter(captcha_length).keys()))\n",
    "print(\"Characters present: \", characters)\n",
    "print(\"Total number of samples in the dataset: \", len(dataset))\n",
    "dataset.head()"
   ]
  },
  {
   "cell_type": "code",
   "execution_count": 11,
   "metadata": {},
   "outputs": [
    {
     "output_type": "stream",
     "name": "stdout",
     "text": [
      "Number of training samples:  936\n",
      "Number of validation samples:  104\n",
      "Number of training images:  (936, 50, 200)\n",
      "Number of training labels:  (936,)\n",
      "Number of validation images:  (104, 50, 200)\n",
      "Number of validation labels:  (104,)\n"
     ]
    }
   ],
   "source": [
    "# Split the dataset into training and validation sets\n",
    "training_data, validation_data = train_test_split(dataset, test_size=0.1, random_state=seed)\n",
    "\n",
    "training_data = training_data.reset_index(drop=True)\n",
    "validation_data = validation_data.reset_index(drop=True)\n",
    "\n",
    "print(\"Number of training samples: \", len(training_data))\n",
    "print(\"Number of validation samples: \", len(validation_data))\n",
    "\n",
    "\n",
    "\n",
    "# Map text to numeric labels \n",
    "char_to_labels = {char:idx for idx, char in enumerate(characters)}\n",
    "\n",
    "# Map numeric labels to text\n",
    "labels_to_char = {val:key for key, val in char_to_labels.items()}\n",
    "\n",
    "\n",
    "\n",
    "# Sanity check for corrupted images\n",
    "def is_valid_captcha(captcha):\n",
    "    for ch in captcha:\n",
    "        if not ch in characters:\n",
    "            return False\n",
    "    return True\n",
    "\n",
    "\n",
    "\n",
    "# Store arrays in memory as it's not a muvh big dataset\n",
    "def generate_arrays(df, resize=True, img_height=50, img_width=200):\n",
    "    \"\"\"Generates image array and labels array from a dataframe.\n",
    "    \n",
    "    Args:\n",
    "        df: dataframe from which we want to read the data\n",
    "        resize (bool)    : whether to resize images or not\n",
    "        img_weidth (int): width of the resized images\n",
    "        img_height (int): height of the resized images\n",
    "        \n",
    "    Returns:\n",
    "        images (ndarray): grayscale images\n",
    "        labels (ndarray): corresponding encoded labels\n",
    "    \"\"\"\n",
    "    \n",
    "    num_items = len(df)\n",
    "    images = np.zeros((num_items, img_height, img_width), dtype=np.float32)\n",
    "    labels = [0]*num_items\n",
    "    \n",
    "    for i in range(num_items):\n",
    "        img = cv2.imread(df[\"img_path\"][i])\n",
    "        img = cv2.cvtColor(img, cv2.COLOR_BGR2GRAY)\n",
    "        \n",
    "        if resize: \n",
    "            img = cv2.resize(img, (img_width, img_height))\n",
    "        \n",
    "        img = (img/255.).astype(np.float32)\n",
    "        label = df[\"label\"][i]\n",
    "        \n",
    "        # Add only if it is a valid captcha\n",
    "        if is_valid_captcha(label):\n",
    "            images[i, :, :] = img\n",
    "            labels[i] = label\n",
    "    \n",
    "    return images, np.array(labels)\n",
    "\n",
    "\n",
    "\n",
    "# Build training data\n",
    "training_data, training_labels = generate_arrays(df=training_data)\n",
    "print(\"Number of training images: \", training_data.shape)\n",
    "print(\"Number of training labels: \", training_labels.shape)\n",
    "\n",
    "\n",
    "# Build validation data\n",
    "validation_data, validation_labels = generate_arrays(df=validation_data)\n",
    "print(\"Number of validation images: \", validation_data.shape)\n",
    "print(\"Number of validation labels: \", validation_labels.shape)"
   ]
  },
  {
   "cell_type": "code",
   "execution_count": 12,
   "metadata": {},
   "outputs": [],
   "source": [
    "class DataGenerator(keras.utils.Sequence):\n",
    "    \"\"\"Generates batches from a given dataset.\n",
    "    \n",
    "    Args:\n",
    "        data: training or validation data\n",
    "        labels: corresponding labels\n",
    "        char_map: dictionary mapping char to labels\n",
    "        batch_size: size of a single batch\n",
    "        img_width: width of the resized\n",
    "        img_height: height of the resized\n",
    "        downsample_factor: by what factor did the CNN downsample the images\n",
    "        max_length: maximum length of any captcha\n",
    "        shuffle: whether to shuffle data or not after each epoch\n",
    "    Returns:\n",
    "        batch_inputs: a dictionary containing batch inputs \n",
    "        batch_labels: a batch of corresponding labels \n",
    "    \"\"\"\n",
    "    \n",
    "    def __init__(self,\n",
    "                 data,\n",
    "                 labels,\n",
    "                 char_map,\n",
    "                 batch_size=16,\n",
    "                 img_width=200,\n",
    "                 img_height=50,\n",
    "                 downsample_factor=4,\n",
    "                 max_length=5,\n",
    "                 shuffle=True\n",
    "                ):\n",
    "        self.data = data\n",
    "        self.labels = labels\n",
    "        self.char_map = char_map\n",
    "        self.batch_size = batch_size\n",
    "        self.img_width = img_width\n",
    "        self.img_height = img_height\n",
    "        self.downsample_factor = downsample_factor\n",
    "        self.max_length = max_length\n",
    "        self.shuffle = shuffle\n",
    "        self.indices = np.arange(len(data))    \n",
    "        self.on_epoch_end()\n",
    "        \n",
    "    def __len__(self):\n",
    "        return int(np.ceil(len(self.data) / self.batch_size))\n",
    "    \n",
    "    def __getitem__(self, idx):\n",
    "        # 1. Get the next batch indices\n",
    "        curr_batch_idx = self.indices[idx*self.batch_size:(idx+1)*self.batch_size]\n",
    "        \n",
    "        # 2. This isn't necessary but it can help us save some memory\n",
    "        # as not all batches the last batch may not have elements\n",
    "        # equal to the batch_size \n",
    "        batch_len = len(curr_batch_idx)\n",
    "        \n",
    "        # 3. Instantiate batch arrays\n",
    "        batch_images = np.ones((batch_len, self.img_width, self.img_height, 1),\n",
    "                               dtype=np.float32)\n",
    "        batch_labels = np.ones((batch_len, self.max_length), dtype=np.float32)\n",
    "        input_length = np.ones((batch_len, 1), dtype=np.int64) * \\\n",
    "                                (self.img_width // self.downsample_factor - 2)\n",
    "        label_length = np.zeros((batch_len, 1), dtype=np.int64)\n",
    "        \n",
    "        \n",
    "        for j, idx in enumerate(curr_batch_idx):\n",
    "            # 1. Get the image and transpose it\n",
    "            img = self.data[idx].T\n",
    "            # 2. Add extra dimenison\n",
    "            img = np.expand_dims(img, axis=-1)\n",
    "            # 3. Get the correpsonding label\n",
    "            text = self.labels[idx]\n",
    "            # 4. Include the pair only if the captcha is valid\n",
    "            if is_valid_captcha(text):\n",
    "                label = [self.char_map[ch] for ch in text]\n",
    "                batch_images[j] = img\n",
    "                batch_labels[j] = label\n",
    "                label_length[j] = len(text)\n",
    "        \n",
    "        batch_inputs = {\n",
    "                'input_data': batch_images,\n",
    "                'input_label': batch_labels,\n",
    "                'input_length': input_length,\n",
    "                'label_length': label_length,\n",
    "                }\n",
    "        return batch_inputs, np.zeros(batch_len).astype(np.float32)\n",
    "        \n",
    "    \n",
    "    def on_epoch_end(self):\n",
    "        if self.shuffle:\n",
    "            np.random.shuffle(self.indices)"
   ]
  },
  {
   "cell_type": "code",
   "execution_count": 13,
   "metadata": {},
   "outputs": [],
   "source": [
    "# Batch size for training and validation\n",
    "batch_size = 16\n",
    "\n",
    "# Desired image dimensions\n",
    "img_width=200\n",
    "img_height=50 \n",
    "\n",
    "# Factor  by which the image is going to be downsampled\n",
    "# by the convolutional blocks\n",
    "downsample_factor=4\n",
    "\n",
    "# Maximum length of any captcha in the data\n",
    "max_length=5\n",
    "\n",
    "# Get a generator object for the training data\n",
    "train_data_generator = DataGenerator(data=training_data,\n",
    "                                     labels=training_labels,\n",
    "                                     char_map=char_to_labels,\n",
    "                                     batch_size=batch_size,\n",
    "                                     img_width=img_width,\n",
    "                                     img_height=img_height,\n",
    "                                     downsample_factor=downsample_factor,\n",
    "                                     max_length=max_length,\n",
    "                                     shuffle=True\n",
    "                                    )\n",
    "\n",
    "# Get a generator object for the validation data \n",
    "valid_data_generator = DataGenerator(data=validation_data,\n",
    "                                     labels=validation_labels,\n",
    "                                     char_map=char_to_labels,\n",
    "                                     batch_size=batch_size,\n",
    "                                     img_width=img_width,\n",
    "                                     img_height=img_height,\n",
    "                                     downsample_factor=downsample_factor,\n",
    "                                     max_length=max_length,\n",
    "                                     shuffle=False\n",
    "                                    )"
   ]
  },
  {
   "cell_type": "code",
   "execution_count": 14,
   "metadata": {},
   "outputs": [],
   "source": [
    "class CTCLayer(layers.Layer):\n",
    "    def __init__(self, name=None):\n",
    "        super().__init__(name=name)\n",
    "        self.loss_fn = keras.backend.ctc_batch_cost\n",
    "\n",
    "    def call(self, y_true, y_pred, input_length, label_length):\n",
    "        # Compute the training-time loss value and add it\n",
    "        # to the layer using `self.add_loss()`.\n",
    "        loss = self.loss_fn(y_true, y_pred, input_length, label_length)\n",
    "        self.add_loss(loss)\n",
    "        \n",
    "        # On test time, just return the computed loss\n",
    "        return loss\n",
    "\n",
    "\n",
    "\n",
    "def build_model():\n",
    "    # Inputs to the model\n",
    "    input_img = layers.Input(shape=(img_width, img_height, 1),\n",
    "                            name='input_data',\n",
    "                            dtype='float32')\n",
    "    labels = layers.Input(name='input_label', shape=[max_length], dtype='float32')\n",
    "    input_length = layers.Input(name='input_length', shape=[1], dtype='int64')\n",
    "    label_length = layers.Input(name='label_length', shape=[1], dtype='int64')\n",
    "    \n",
    "    # First conv block\n",
    "    x = layers.Conv2D(32,\n",
    "               (3,3),\n",
    "               activation='relu',\n",
    "               kernel_initializer='he_normal',\n",
    "               padding='same',\n",
    "               name='Conv1')(input_img)\n",
    "    x = layers.MaxPooling2D((2,2), name='pool1')(x)\n",
    "    \n",
    "    # Second conv block\n",
    "    x = layers.Conv2D(64,\n",
    "               (3,3),\n",
    "               activation='relu',\n",
    "               kernel_initializer='he_normal',\n",
    "               padding='same',\n",
    "               name='Conv2')(x)\n",
    "    x = layers.MaxPooling2D((2,2), name='pool2')(x)\n",
    "    \n",
    "    # We have used two max pool with pool size and strides of 2.\n",
    "    # Hence, downsampled feature maps are 4x smaller. The number of\n",
    "    # filters in the last layer is 64. Reshape accordingly before\n",
    "    # passing it to RNNs\n",
    "    new_shape = ((img_width // 4), (img_height // 4)*64)\n",
    "    x = layers.Reshape(target_shape=new_shape, name='reshape')(x)\n",
    "    x = layers.Dense(64, activation='relu', name='dense1')(x)\n",
    "    x = layers.Dropout(0.2)(x)\n",
    "    \n",
    "    # RNNs\n",
    "    x = layers.Bidirectional(layers.LSTM(128,\n",
    "                                         return_sequences=True,\n",
    "                                         dropout=0.2))(x)\n",
    "    x = layers.Bidirectional(layers.LSTM(64,\n",
    "                                         return_sequences=True,\n",
    "                                         dropout=0.25))(x)\n",
    "    \n",
    "    # Predictions\n",
    "    x = layers.Dense(len(characters)+1,\n",
    "              activation='softmax', \n",
    "              name='dense2',\n",
    "              kernel_initializer='he_normal')(x)\n",
    "    \n",
    "    # Calculate CTC\n",
    "    output = CTCLayer(name='ctc_loss')(labels, x, input_length, label_length)\n",
    "    \n",
    "    # Define the model\n",
    "    model = keras.models.Model(inputs=[input_img,\n",
    "                                       labels,\n",
    "                                       input_length,\n",
    "                                       label_length],\n",
    "                                outputs=output,\n",
    "                                name='ocr_model_v1')\n",
    "    \n",
    "    # Optimizer\n",
    "    sgd = keras.optimizers.SGD(learning_rate=0.002,\n",
    "                               decay=1e-6,\n",
    "                               momentum=0.9,\n",
    "                               nesterov=True,\n",
    "                               clipnorm=5)\n",
    "    \n",
    "    # Compile the model and return \n",
    "    model.compile(optimizer=sgd)\n",
    "    return model"
   ]
  },
  {
   "cell_type": "code",
   "execution_count": 15,
   "metadata": {},
   "outputs": [
    {
     "output_type": "stream",
     "name": "stdout",
     "text": [
      "Model: \"ocr_model_v1\"\n__________________________________________________________________________________________________\nLayer (type)                    Output Shape         Param #     Connected to                     \n==================================================================================================\ninput_data (InputLayer)         [(None, 200, 50, 1)] 0                                            \n__________________________________________________________________________________________________\nConv1 (Conv2D)                  (None, 200, 50, 32)  320         input_data[0][0]                 \n__________________________________________________________________________________________________\npool1 (MaxPooling2D)            (None, 100, 25, 32)  0           Conv1[0][0]                      \n__________________________________________________________________________________________________\nConv2 (Conv2D)                  (None, 100, 25, 64)  18496       pool1[0][0]                      \n__________________________________________________________________________________________________\npool2 (MaxPooling2D)            (None, 50, 12, 64)   0           Conv2[0][0]                      \n__________________________________________________________________________________________________\nreshape (Reshape)               (None, 50, 768)      0           pool2[0][0]                      \n__________________________________________________________________________________________________\ndense1 (Dense)                  (None, 50, 64)       49216       reshape[0][0]                    \n__________________________________________________________________________________________________\ndropout (Dropout)               (None, 50, 64)       0           dense1[0][0]                     \n__________________________________________________________________________________________________\nbidirectional (Bidirectional)   (None, 50, 256)      197632      dropout[0][0]                    \n__________________________________________________________________________________________________\nbidirectional_1 (Bidirectional) (None, 50, 128)      164352      bidirectional[0][0]              \n__________________________________________________________________________________________________\ninput_label (InputLayer)        [(None, 5)]          0                                            \n__________________________________________________________________________________________________\ndense2 (Dense)                  (None, 50, 20)       2580        bidirectional_1[0][0]            \n__________________________________________________________________________________________________\ninput_length (InputLayer)       [(None, 1)]          0                                            \n__________________________________________________________________________________________________\nlabel_length (InputLayer)       [(None, 1)]          0                                            \n__________________________________________________________________________________________________\nctc_loss (CTCLayer)             (None, 1)            0           input_label[0][0]                \n                                                                 dense2[0][0]                     \n                                                                 input_length[0][0]               \n                                                                 label_length[0][0]               \n==================================================================================================\nTotal params: 432,596\nTrainable params: 432,596\nNon-trainable params: 0\n__________________________________________________________________________________________________\n"
     ]
    }
   ],
   "source": [
    "model = build_model()\n",
    "model.summary()"
   ]
  },
  {
   "cell_type": "code",
   "execution_count": 16,
   "metadata": {},
   "outputs": [
    {
     "output_type": "stream",
     "name": "stdout",
     "text": [
      "Epoch 1/50\n",
      "59/59 [==============================] - 12s 82ms/step - loss: 40.1283 - val_loss: 16.4985\n",
      "Epoch 2/50\n",
      "59/59 [==============================] - 1s 22ms/step - loss: 16.4126 - val_loss: 16.4617\n",
      "Epoch 3/50\n",
      "59/59 [==============================] - 1s 21ms/step - loss: 16.3722 - val_loss: 16.3442\n",
      "Epoch 4/50\n",
      "59/59 [==============================] - 1s 21ms/step - loss: 16.2203 - val_loss: 16.1154\n",
      "Epoch 5/50\n",
      "59/59 [==============================] - 1s 21ms/step - loss: 15.9397 - val_loss: 15.6217\n",
      "Epoch 6/50\n",
      "59/59 [==============================] - 1s 22ms/step - loss: 15.4702 - val_loss: 15.1759\n",
      "Epoch 7/50\n",
      "59/59 [==============================] - 1s 22ms/step - loss: 15.1393 - val_loss: 14.8307\n",
      "Epoch 8/50\n",
      "59/59 [==============================] - 1s 22ms/step - loss: 14.8332 - val_loss: 14.4157\n",
      "Epoch 9/50\n",
      "59/59 [==============================] - 1s 22ms/step - loss: 14.3519 - val_loss: 14.0138\n",
      "Epoch 10/50\n",
      "59/59 [==============================] - 1s 21ms/step - loss: 13.8845 - val_loss: 13.6589\n",
      "Epoch 11/50\n",
      "59/59 [==============================] - 1s 22ms/step - loss: 13.5011 - val_loss: 13.1966\n",
      "Epoch 12/50\n",
      "59/59 [==============================] - 1s 22ms/step - loss: 12.9654 - val_loss: 12.9336\n",
      "Epoch 13/50\n",
      "59/59 [==============================] - 1s 22ms/step - loss: 12.5688 - val_loss: 12.7564\n",
      "Epoch 14/50\n",
      "59/59 [==============================] - 1s 21ms/step - loss: 12.0588 - val_loss: 11.7578\n",
      "Epoch 15/50\n",
      "59/59 [==============================] - 1s 22ms/step - loss: 11.1397 - val_loss: 9.8639\n",
      "Epoch 16/50\n",
      "59/59 [==============================] - 1s 22ms/step - loss: 9.5359 - val_loss: 8.0548\n",
      "Epoch 17/50\n",
      "59/59 [==============================] - 1s 22ms/step - loss: 7.8923 - val_loss: 6.4857\n",
      "Epoch 18/50\n",
      "59/59 [==============================] - 1s 22ms/step - loss: 6.3372 - val_loss: 4.4263\n",
      "Epoch 19/50\n",
      "59/59 [==============================] - 1s 22ms/step - loss: 4.7465 - val_loss: 2.9154\n",
      "Epoch 20/50\n",
      "59/59 [==============================] - 1s 22ms/step - loss: 3.2492 - val_loss: 1.6637\n",
      "Epoch 21/50\n",
      "59/59 [==============================] - 1s 22ms/step - loss: 2.2223 - val_loss: 1.0208\n",
      "Epoch 22/50\n",
      "59/59 [==============================] - 1s 22ms/step - loss: 1.5078 - val_loss: 1.0495\n",
      "Epoch 23/50\n",
      "59/59 [==============================] - 1s 23ms/step - loss: 1.1316 - val_loss: 0.5850\n",
      "Epoch 24/50\n",
      "59/59 [==============================] - 1s 22ms/step - loss: 1.0106 - val_loss: 0.4214\n",
      "Epoch 25/50\n",
      "59/59 [==============================] - 1s 21ms/step - loss: 0.7644 - val_loss: 0.4624\n",
      "Epoch 26/50\n",
      "59/59 [==============================] - 1s 22ms/step - loss: 0.7136 - val_loss: 0.3554\n",
      "Epoch 27/50\n",
      "59/59 [==============================] - 1s 22ms/step - loss: 0.5671 - val_loss: 0.2969\n",
      "Epoch 28/50\n",
      "59/59 [==============================] - 1s 21ms/step - loss: 0.4467 - val_loss: 0.2115\n",
      "Epoch 29/50\n",
      "59/59 [==============================] - 1s 21ms/step - loss: 0.3898 - val_loss: 0.1674\n",
      "Epoch 30/50\n",
      "59/59 [==============================] - 1s 22ms/step - loss: 0.3041 - val_loss: 0.0896\n",
      "Epoch 31/50\n",
      "59/59 [==============================] - 1s 22ms/step - loss: 0.2820 - val_loss: 0.0990\n",
      "Epoch 32/50\n",
      "59/59 [==============================] - 1s 25ms/step - loss: 0.2508 - val_loss: 0.1062\n",
      "Epoch 33/50\n",
      "59/59 [==============================] - 1s 25ms/step - loss: 0.2366 - val_loss: 0.0632\n",
      "Epoch 34/50\n",
      "59/59 [==============================] - 1s 22ms/step - loss: 0.1996 - val_loss: 0.0909\n",
      "Epoch 35/50\n",
      "59/59 [==============================] - 1s 22ms/step - loss: 0.2000 - val_loss: 0.1162\n",
      "Epoch 36/50\n",
      "59/59 [==============================] - 1s 23ms/step - loss: 0.1379 - val_loss: 0.0615\n",
      "Epoch 37/50\n",
      "59/59 [==============================] - 1s 23ms/step - loss: 0.1141 - val_loss: 0.1210\n",
      "Epoch 38/50\n",
      "59/59 [==============================] - 1s 22ms/step - loss: 0.1554 - val_loss: 0.0347\n",
      "Epoch 39/50\n",
      "59/59 [==============================] - 1s 22ms/step - loss: 0.1572 - val_loss: 0.0305\n",
      "Epoch 40/50\n",
      "59/59 [==============================] - 1s 21ms/step - loss: 0.0670 - val_loss: 0.0371\n",
      "Epoch 41/50\n",
      "59/59 [==============================] - 1s 21ms/step - loss: 0.1391 - val_loss: 0.0440\n",
      "Epoch 42/50\n",
      "59/59 [==============================] - 1s 22ms/step - loss: 0.0993 - val_loss: 0.0086\n",
      "Epoch 43/50\n",
      "59/59 [==============================] - 1s 22ms/step - loss: 0.0468 - val_loss: 0.0412\n",
      "Epoch 44/50\n",
      "59/59 [==============================] - 1s 21ms/step - loss: 0.0591 - val_loss: 0.0136\n",
      "Epoch 45/50\n",
      "59/59 [==============================] - 1s 21ms/step - loss: 0.0843 - val_loss: 0.0326\n",
      "Epoch 46/50\n",
      "59/59 [==============================] - 1s 23ms/step - loss: 0.0958 - val_loss: 0.0088\n",
      "Epoch 47/50\n",
      "59/59 [==============================] - 1s 21ms/step - loss: 0.0616 - val_loss: 0.0335\n"
     ]
    }
   ],
   "source": [
    "# Add early stopping\n",
    "es = keras.callbacks.EarlyStopping(monitor='val_loss',\n",
    "                                   patience=5,\n",
    "                                   restore_best_weights=True)\n",
    "\n",
    "# Train the model\n",
    "history = model.fit(train_data_generator,\n",
    "                    validation_data=valid_data_generator,\n",
    "                    epochs=50,\n",
    "                    callbacks=[es])"
   ]
  },
  {
   "cell_type": "code",
   "execution_count": 17,
   "metadata": {},
   "outputs": [
    {
     "output_type": "stream",
     "name": "stdout",
     "text": [
      "Model: \"model\"\n_________________________________________________________________\nLayer (type)                 Output Shape              Param #   \n=================================================================\ninput_data (InputLayer)      [(None, 200, 50, 1)]      0         \n_________________________________________________________________\nConv1 (Conv2D)               (None, 200, 50, 32)       320       \n_________________________________________________________________\npool1 (MaxPooling2D)         (None, 100, 25, 32)       0         \n_________________________________________________________________\nConv2 (Conv2D)               (None, 100, 25, 64)       18496     \n_________________________________________________________________\npool2 (MaxPooling2D)         (None, 50, 12, 64)        0         \n_________________________________________________________________\nreshape (Reshape)            (None, 50, 768)           0         \n_________________________________________________________________\ndense1 (Dense)               (None, 50, 64)            49216     \n_________________________________________________________________\ndropout (Dropout)            (None, 50, 64)            0         \n_________________________________________________________________\nbidirectional (Bidirectional (None, 50, 256)           197632    \n_________________________________________________________________\nbidirectional_1 (Bidirection (None, 50, 128)           164352    \n_________________________________________________________________\ndense2 (Dense)               (None, 50, 20)            2580      \n=================================================================\nTotal params: 432,596\nTrainable params: 432,596\nNon-trainable params: 0\n_________________________________________________________________\n"
     ]
    }
   ],
   "source": [
    "prediction_model = keras.models.Model(model.get_layer(name='input_data').input,\n",
    "                                        model.get_layer(name='dense2').output)\n",
    "prediction_model.summary()"
   ]
  },
  {
   "cell_type": "code",
   "execution_count": 18,
   "metadata": {},
   "outputs": [],
   "source": [
    "# A utility to decode the output of the network\n",
    "def decode_batch_predictions(pred):\n",
    "    pred = pred[:, :-2]\n",
    "    input_len = np.ones(pred.shape[0])*pred.shape[1]\n",
    "    \n",
    "    # Use greedy search. For complex tasks, you can use beam search\n",
    "    results = keras.backend.ctc_decode(pred, \n",
    "                                        input_length=input_len,\n",
    "                                        greedy=True)[0][0]\n",
    "    \n",
    "    # Iterate over the results and get back the text\n",
    "    output_text = []\n",
    "    for res in results.numpy():\n",
    "        outstr = ''\n",
    "        for c in res:\n",
    "            if c < len(characters) and c >=0:\n",
    "                outstr += labels_to_char[c]\n",
    "        output_text.append(outstr)\n",
    "    \n",
    "    # return final text results\n",
    "    return output_text"
   ]
  },
  {
   "cell_type": "code",
   "execution_count": 19,
   "metadata": {},
   "outputs": [
    {
     "output_type": "stream",
     "name": "stdout",
     "text": [
      "Ground truth: bnc2f \t Predicted: bnc2f\nGround truth: bdg84 \t Predicted: bdg84\nGround truth: ndg2b \t Predicted: ndg2b\nGround truth: 2yggg \t Predicted: 2yggg\nGround truth: 428b6 \t Predicted: 428b6\nGround truth: efx34 \t Predicted: efx34\nGround truth: efg72 \t Predicted: efg72\nGround truth: efe62 \t Predicted: efe62\nGround truth: dxwcw \t Predicted: dxwcw\nGround truth: 2x7bm \t Predicted: 2x7bm\nGround truth: x458w \t Predicted: x458w\nGround truth: 8c2wy \t Predicted: 8c2wy\nGround truth: p4nm4 \t Predicted: p4nm4\nGround truth: e84n2 \t Predicted: e84n2\nGround truth: dd5w5 \t Predicted: dd5w5\nGround truth: 6pwcn \t Predicted: 6pwcn\n"
     ]
    }
   ],
   "source": [
    "#  Let's check results on some validation samples\n",
    "for p, (inp_value, _) in enumerate(valid_data_generator):\n",
    "    bs = inp_value['input_data'].shape[0]\n",
    "    X_data = inp_value['input_data']\n",
    "    labels = inp_value['input_label']\n",
    "    \n",
    "    preds = prediction_model.predict(X_data)\n",
    "    pred_texts = decode_batch_predictions(preds)\n",
    "    \n",
    "    \n",
    "    orig_texts = []\n",
    "    for label in labels:\n",
    "        text = ''.join([labels_to_char[int(x)] for x in label])\n",
    "        orig_texts.append(text)\n",
    "        \n",
    "    for i in range(bs):\n",
    "        print(f'Ground truth: {orig_texts[i]} \\t Predicted: {pred_texts[i]}')\n",
    "    break"
   ]
  },
  {
   "cell_type": "code",
   "execution_count": 20,
   "metadata": {},
   "outputs": [
    {
     "output_type": "execute_result",
     "data": {
      "text/plain": [
       "['bnc2f']"
      ]
     },
     "metadata": {},
     "execution_count": 20
    }
   ],
   "source": [
    "# print(X_data)\n",
    "preds = prediction_model.predict(np.array([X_data[0]]))\n",
    "pred_texts = decode_batch_predictions(preds)\n",
    "pred_texts"
   ]
  },
  {
   "cell_type": "code",
   "execution_count": 21,
   "metadata": {},
   "outputs": [
    {
     "output_type": "execute_result",
     "data": {
      "text/plain": [
       "(1, 200, 50, 1)"
      ]
     },
     "metadata": {},
     "execution_count": 21
    }
   ],
   "source": [
    "np.array([X_data[0]]).shape"
   ]
  },
  {
   "cell_type": "code",
   "execution_count": 22,
   "metadata": {},
   "outputs": [],
   "source": [
    "data={\n",
    "    \"img_path\":\"data/test/t3r8.jpg\",\n",
    "\"label\":\"t3r8\"\n",
    "}\n",
    "df_test = pd.DataFrame([data])\n",
    "data_test, labels_test = generate_arrays(df_test, resize=True, img_height=50, img_width=200)"
   ]
  },
  {
   "cell_type": "code",
   "execution_count": 23,
   "metadata": {},
   "outputs": [
    {
     "output_type": "execute_result",
     "data": {
      "text/plain": [
       "['gp']"
      ]
     },
     "metadata": {},
     "execution_count": 23
    }
   ],
   "source": [
    "preds = prediction_model.predict(np.array([data_test.T]))\n",
    "pred_texts = decode_batch_predictions(preds)\n",
    "pred_texts"
   ]
  }
 ]
}